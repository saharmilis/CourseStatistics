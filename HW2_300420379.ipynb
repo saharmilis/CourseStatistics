{
 "cells": [
  {
   "cell_type": "markdown",
   "metadata": {},
   "source": [
    "### IDs:\n",
    "Insert yours IDs to the cell below"
   ]
  },
  {
   "cell_type": "markdown",
   "metadata": {},
   "source": [
    "ID #1: 300420379\n",
    "\n",
    "ID #2: Ben approved to submit alone\n"
   ]
  },
  {
   "cell_type": "markdown",
   "metadata": {},
   "source": [
    "## Read the following instructions carefully:\n",
    "\n",
    "1. This jupyter notebook contains all the step by step instructions needed for this exercise.\n",
    "1. You are free to add cells.\n",
    "1. Write your functions and your answers in this jupyter notebook only.\n",
    "1. Answers to theoretical questions should be written in **markdown cells (with $\\LaTeX$ support)**.\n",
    "1. Submit this jupyter notebook only using your ID as a filename. Not to use ZIP or RAR. For example, your Moodle submission file name should look like this (two id numbers): `123456789_987654321.ipynb`."
   ]
  },
  {
   "cell_type": "markdown",
   "metadata": {},
   "source": [
    "## Question 1 - Data viz - practical"
   ]
  },
  {
   "cell_type": "markdown",
   "metadata": {},
   "source": [
    "Load Boston dataset from sklearn"
   ]
  },
  {
   "cell_type": "code",
   "execution_count": 2,
   "metadata": {},
   "outputs": [
    {
     "data": {
      "text/html": [
       "<div>\n",
       "<style scoped>\n",
       "    .dataframe tbody tr th:only-of-type {\n",
       "        vertical-align: middle;\n",
       "    }\n",
       "\n",
       "    .dataframe tbody tr th {\n",
       "        vertical-align: top;\n",
       "    }\n",
       "\n",
       "    .dataframe thead th {\n",
       "        text-align: right;\n",
       "    }\n",
       "</style>\n",
       "<table border=\"1\" class=\"dataframe\">\n",
       "  <thead>\n",
       "    <tr style=\"text-align: right;\">\n",
       "      <th></th>\n",
       "      <th>CRIM</th>\n",
       "      <th>ZN</th>\n",
       "      <th>INDUS</th>\n",
       "      <th>CHAS</th>\n",
       "      <th>NOX</th>\n",
       "      <th>RM</th>\n",
       "      <th>AGE</th>\n",
       "      <th>DIS</th>\n",
       "      <th>RAD</th>\n",
       "      <th>TAX</th>\n",
       "      <th>PTRATIO</th>\n",
       "      <th>B</th>\n",
       "      <th>LSTAT</th>\n",
       "      <th>MEDV</th>\n",
       "    </tr>\n",
       "  </thead>\n",
       "  <tbody>\n",
       "    <tr>\n",
       "      <th>0</th>\n",
       "      <td>0.00632</td>\n",
       "      <td>18.0</td>\n",
       "      <td>2.31</td>\n",
       "      <td>0.0</td>\n",
       "      <td>0.538</td>\n",
       "      <td>6.575</td>\n",
       "      <td>65.2</td>\n",
       "      <td>4.0900</td>\n",
       "      <td>1.0</td>\n",
       "      <td>296.0</td>\n",
       "      <td>15.3</td>\n",
       "      <td>396.90</td>\n",
       "      <td>4.98</td>\n",
       "      <td>24.0</td>\n",
       "    </tr>\n",
       "    <tr>\n",
       "      <th>1</th>\n",
       "      <td>0.02731</td>\n",
       "      <td>0.0</td>\n",
       "      <td>7.07</td>\n",
       "      <td>0.0</td>\n",
       "      <td>0.469</td>\n",
       "      <td>6.421</td>\n",
       "      <td>78.9</td>\n",
       "      <td>4.9671</td>\n",
       "      <td>2.0</td>\n",
       "      <td>242.0</td>\n",
       "      <td>17.8</td>\n",
       "      <td>396.90</td>\n",
       "      <td>9.14</td>\n",
       "      <td>21.6</td>\n",
       "    </tr>\n",
       "    <tr>\n",
       "      <th>2</th>\n",
       "      <td>0.02729</td>\n",
       "      <td>0.0</td>\n",
       "      <td>7.07</td>\n",
       "      <td>0.0</td>\n",
       "      <td>0.469</td>\n",
       "      <td>7.185</td>\n",
       "      <td>61.1</td>\n",
       "      <td>4.9671</td>\n",
       "      <td>2.0</td>\n",
       "      <td>242.0</td>\n",
       "      <td>17.8</td>\n",
       "      <td>392.83</td>\n",
       "      <td>4.03</td>\n",
       "      <td>34.7</td>\n",
       "    </tr>\n",
       "    <tr>\n",
       "      <th>3</th>\n",
       "      <td>0.03237</td>\n",
       "      <td>0.0</td>\n",
       "      <td>2.18</td>\n",
       "      <td>0.0</td>\n",
       "      <td>0.458</td>\n",
       "      <td>6.998</td>\n",
       "      <td>45.8</td>\n",
       "      <td>6.0622</td>\n",
       "      <td>3.0</td>\n",
       "      <td>222.0</td>\n",
       "      <td>18.7</td>\n",
       "      <td>394.63</td>\n",
       "      <td>2.94</td>\n",
       "      <td>33.4</td>\n",
       "    </tr>\n",
       "    <tr>\n",
       "      <th>4</th>\n",
       "      <td>0.06905</td>\n",
       "      <td>0.0</td>\n",
       "      <td>2.18</td>\n",
       "      <td>0.0</td>\n",
       "      <td>0.458</td>\n",
       "      <td>7.147</td>\n",
       "      <td>54.2</td>\n",
       "      <td>6.0622</td>\n",
       "      <td>3.0</td>\n",
       "      <td>222.0</td>\n",
       "      <td>18.7</td>\n",
       "      <td>396.90</td>\n",
       "      <td>5.33</td>\n",
       "      <td>36.2</td>\n",
       "    </tr>\n",
       "  </tbody>\n",
       "</table>\n",
       "</div>"
      ],
      "text/plain": [
       "      CRIM    ZN  INDUS  CHAS    NOX     RM   AGE     DIS  RAD    TAX  \\\n",
       "0  0.00632  18.0   2.31   0.0  0.538  6.575  65.2  4.0900  1.0  296.0   \n",
       "1  0.02731   0.0   7.07   0.0  0.469  6.421  78.9  4.9671  2.0  242.0   \n",
       "2  0.02729   0.0   7.07   0.0  0.469  7.185  61.1  4.9671  2.0  242.0   \n",
       "3  0.03237   0.0   2.18   0.0  0.458  6.998  45.8  6.0622  3.0  222.0   \n",
       "4  0.06905   0.0   2.18   0.0  0.458  7.147  54.2  6.0622  3.0  222.0   \n",
       "\n",
       "   PTRATIO       B  LSTAT  MEDV  \n",
       "0     15.3  396.90   4.98  24.0  \n",
       "1     17.8  396.90   9.14  21.6  \n",
       "2     17.8  392.83   4.03  34.7  \n",
       "3     18.7  394.63   2.94  33.4  \n",
       "4     18.7  396.90   5.33  36.2  "
      ]
     },
     "execution_count": 2,
     "metadata": {},
     "output_type": "execute_result"
    }
   ],
   "source": [
    "import numpy as np\n",
    "import matplotlib.pyplot as plt \n",
    "\n",
    "import pandas as pd\n",
    "import seaborn as sns\n",
    "sns.set(rc={'figure.figsize':(10,5)})\n",
    "\n",
    "\n",
    "from sklearn.datasets import load_boston\n",
    "boston = load_boston()\n",
    "\n",
    "from sklearn.linear_model import LinearRegression\n",
    "from sklearn.model_selection import train_test_split\n",
    "\n",
    "df = pd.DataFrame(boston.data)\n",
    "df.columns = boston.feature_names\n",
    "df['MEDV'] = boston.target\n",
    "\n",
    "df.head()"
   ]
  },
  {
   "cell_type": "code",
   "execution_count": 3,
   "metadata": {},
   "outputs": [
    {
     "data": {
      "text/html": [
       "<div>\n",
       "<style scoped>\n",
       "    .dataframe tbody tr th:only-of-type {\n",
       "        vertical-align: middle;\n",
       "    }\n",
       "\n",
       "    .dataframe tbody tr th {\n",
       "        vertical-align: top;\n",
       "    }\n",
       "\n",
       "    .dataframe thead th {\n",
       "        text-align: right;\n",
       "    }\n",
       "</style>\n",
       "<table border=\"1\" class=\"dataframe\">\n",
       "  <thead>\n",
       "    <tr style=\"text-align: right;\">\n",
       "      <th></th>\n",
       "      <th>CRIM</th>\n",
       "      <th>ZN</th>\n",
       "      <th>INDUS</th>\n",
       "      <th>CHAS</th>\n",
       "      <th>NOX</th>\n",
       "      <th>RM</th>\n",
       "      <th>AGE</th>\n",
       "      <th>DIS</th>\n",
       "      <th>RAD</th>\n",
       "      <th>TAX</th>\n",
       "      <th>PTRATIO</th>\n",
       "      <th>B</th>\n",
       "      <th>LSTAT</th>\n",
       "      <th>MEDV</th>\n",
       "    </tr>\n",
       "  </thead>\n",
       "  <tbody>\n",
       "    <tr>\n",
       "      <th>count</th>\n",
       "      <td>506.000000</td>\n",
       "      <td>506.000000</td>\n",
       "      <td>506.000000</td>\n",
       "      <td>506.000000</td>\n",
       "      <td>506.000000</td>\n",
       "      <td>506.000000</td>\n",
       "      <td>506.000000</td>\n",
       "      <td>506.000000</td>\n",
       "      <td>506.000000</td>\n",
       "      <td>506.000000</td>\n",
       "      <td>506.000000</td>\n",
       "      <td>506.000000</td>\n",
       "      <td>506.000000</td>\n",
       "      <td>506.000000</td>\n",
       "    </tr>\n",
       "    <tr>\n",
       "      <th>mean</th>\n",
       "      <td>3.593761</td>\n",
       "      <td>11.363636</td>\n",
       "      <td>11.136779</td>\n",
       "      <td>0.069170</td>\n",
       "      <td>0.554695</td>\n",
       "      <td>6.284634</td>\n",
       "      <td>68.574901</td>\n",
       "      <td>3.795043</td>\n",
       "      <td>9.549407</td>\n",
       "      <td>408.237154</td>\n",
       "      <td>18.455534</td>\n",
       "      <td>356.674032</td>\n",
       "      <td>12.653063</td>\n",
       "      <td>22.532806</td>\n",
       "    </tr>\n",
       "    <tr>\n",
       "      <th>std</th>\n",
       "      <td>8.596783</td>\n",
       "      <td>23.322453</td>\n",
       "      <td>6.860353</td>\n",
       "      <td>0.253994</td>\n",
       "      <td>0.115878</td>\n",
       "      <td>0.702617</td>\n",
       "      <td>28.148861</td>\n",
       "      <td>2.105710</td>\n",
       "      <td>8.707259</td>\n",
       "      <td>168.537116</td>\n",
       "      <td>2.164946</td>\n",
       "      <td>91.294864</td>\n",
       "      <td>7.141062</td>\n",
       "      <td>9.197104</td>\n",
       "    </tr>\n",
       "    <tr>\n",
       "      <th>min</th>\n",
       "      <td>0.006320</td>\n",
       "      <td>0.000000</td>\n",
       "      <td>0.460000</td>\n",
       "      <td>0.000000</td>\n",
       "      <td>0.385000</td>\n",
       "      <td>3.561000</td>\n",
       "      <td>2.900000</td>\n",
       "      <td>1.129600</td>\n",
       "      <td>1.000000</td>\n",
       "      <td>187.000000</td>\n",
       "      <td>12.600000</td>\n",
       "      <td>0.320000</td>\n",
       "      <td>1.730000</td>\n",
       "      <td>5.000000</td>\n",
       "    </tr>\n",
       "    <tr>\n",
       "      <th>25%</th>\n",
       "      <td>0.082045</td>\n",
       "      <td>0.000000</td>\n",
       "      <td>5.190000</td>\n",
       "      <td>0.000000</td>\n",
       "      <td>0.449000</td>\n",
       "      <td>5.885500</td>\n",
       "      <td>45.025000</td>\n",
       "      <td>2.100175</td>\n",
       "      <td>4.000000</td>\n",
       "      <td>279.000000</td>\n",
       "      <td>17.400000</td>\n",
       "      <td>375.377500</td>\n",
       "      <td>6.950000</td>\n",
       "      <td>17.025000</td>\n",
       "    </tr>\n",
       "    <tr>\n",
       "      <th>50%</th>\n",
       "      <td>0.256510</td>\n",
       "      <td>0.000000</td>\n",
       "      <td>9.690000</td>\n",
       "      <td>0.000000</td>\n",
       "      <td>0.538000</td>\n",
       "      <td>6.208500</td>\n",
       "      <td>77.500000</td>\n",
       "      <td>3.207450</td>\n",
       "      <td>5.000000</td>\n",
       "      <td>330.000000</td>\n",
       "      <td>19.050000</td>\n",
       "      <td>391.440000</td>\n",
       "      <td>11.360000</td>\n",
       "      <td>21.200000</td>\n",
       "    </tr>\n",
       "    <tr>\n",
       "      <th>75%</th>\n",
       "      <td>3.647423</td>\n",
       "      <td>12.500000</td>\n",
       "      <td>18.100000</td>\n",
       "      <td>0.000000</td>\n",
       "      <td>0.624000</td>\n",
       "      <td>6.623500</td>\n",
       "      <td>94.075000</td>\n",
       "      <td>5.188425</td>\n",
       "      <td>24.000000</td>\n",
       "      <td>666.000000</td>\n",
       "      <td>20.200000</td>\n",
       "      <td>396.225000</td>\n",
       "      <td>16.955000</td>\n",
       "      <td>25.000000</td>\n",
       "    </tr>\n",
       "    <tr>\n",
       "      <th>max</th>\n",
       "      <td>88.976200</td>\n",
       "      <td>100.000000</td>\n",
       "      <td>27.740000</td>\n",
       "      <td>1.000000</td>\n",
       "      <td>0.871000</td>\n",
       "      <td>8.780000</td>\n",
       "      <td>100.000000</td>\n",
       "      <td>12.126500</td>\n",
       "      <td>24.000000</td>\n",
       "      <td>711.000000</td>\n",
       "      <td>22.000000</td>\n",
       "      <td>396.900000</td>\n",
       "      <td>37.970000</td>\n",
       "      <td>50.000000</td>\n",
       "    </tr>\n",
       "  </tbody>\n",
       "</table>\n",
       "</div>"
      ],
      "text/plain": [
       "             CRIM          ZN       INDUS        CHAS         NOX          RM  \\\n",
       "count  506.000000  506.000000  506.000000  506.000000  506.000000  506.000000   \n",
       "mean     3.593761   11.363636   11.136779    0.069170    0.554695    6.284634   \n",
       "std      8.596783   23.322453    6.860353    0.253994    0.115878    0.702617   \n",
       "min      0.006320    0.000000    0.460000    0.000000    0.385000    3.561000   \n",
       "25%      0.082045    0.000000    5.190000    0.000000    0.449000    5.885500   \n",
       "50%      0.256510    0.000000    9.690000    0.000000    0.538000    6.208500   \n",
       "75%      3.647423   12.500000   18.100000    0.000000    0.624000    6.623500   \n",
       "max     88.976200  100.000000   27.740000    1.000000    0.871000    8.780000   \n",
       "\n",
       "              AGE         DIS         RAD         TAX     PTRATIO           B  \\\n",
       "count  506.000000  506.000000  506.000000  506.000000  506.000000  506.000000   \n",
       "mean    68.574901    3.795043    9.549407  408.237154   18.455534  356.674032   \n",
       "std     28.148861    2.105710    8.707259  168.537116    2.164946   91.294864   \n",
       "min      2.900000    1.129600    1.000000  187.000000   12.600000    0.320000   \n",
       "25%     45.025000    2.100175    4.000000  279.000000   17.400000  375.377500   \n",
       "50%     77.500000    3.207450    5.000000  330.000000   19.050000  391.440000   \n",
       "75%     94.075000    5.188425   24.000000  666.000000   20.200000  396.225000   \n",
       "max    100.000000   12.126500   24.000000  711.000000   22.000000  396.900000   \n",
       "\n",
       "            LSTAT        MEDV  \n",
       "count  506.000000  506.000000  \n",
       "mean    12.653063   22.532806  \n",
       "std      7.141062    9.197104  \n",
       "min      1.730000    5.000000  \n",
       "25%      6.950000   17.025000  \n",
       "50%     11.360000   21.200000  \n",
       "75%     16.955000   25.000000  \n",
       "max     37.970000   50.000000  "
      ]
     },
     "execution_count": 3,
     "metadata": {},
     "output_type": "execute_result"
    }
   ],
   "source": [
    "# get femiliar with the dataset \n",
    "df.describe()"
   ]
  },
  {
   "cell_type": "code",
   "execution_count": 4,
   "metadata": {},
   "outputs": [
    {
     "name": "stdout",
     "output_type": "stream",
     "text": [
      "Boston House Prices dataset\n",
      "===========================\n",
      "\n",
      "Notes\n",
      "------\n",
      "Data Set Characteristics:  \n",
      "\n",
      "    :Number of Instances: 506 \n",
      "\n",
      "    :Number of Attributes: 13 numeric/categorical predictive\n",
      "    \n",
      "    :Median Value (attribute 14) is usually the target\n",
      "\n",
      "    :Attribute Information (in order):\n",
      "        - CRIM     per capita crime rate by town\n",
      "        - ZN       proportion of residential land zoned for lots over 25,000 sq.ft.\n",
      "        - INDUS    proportion of non-retail business acres per town\n",
      "        - CHAS     Charles River dummy variable (= 1 if tract bounds river; 0 otherwise)\n",
      "        - NOX      nitric oxides concentration (parts per 10 million)\n",
      "        - RM       average number of rooms per dwelling\n",
      "        - AGE      proportion of owner-occupied units built prior to 1940\n",
      "        - DIS      weighted distances to five Boston employment centres\n",
      "        - RAD      index of accessibility to radial highways\n",
      "        - TAX      full-value property-tax rate per $10,000\n",
      "        - PTRATIO  pupil-teacher ratio by town\n",
      "        - B        1000(Bk - 0.63)^2 where Bk is the proportion of blacks by town\n",
      "        - LSTAT    % lower status of the population\n",
      "        - MEDV     Median value of owner-occupied homes in $1000's\n",
      "\n",
      "    :Missing Attribute Values: None\n",
      "\n",
      "    :Creator: Harrison, D. and Rubinfeld, D.L.\n",
      "\n",
      "This is a copy of UCI ML housing dataset.\n",
      "http://archive.ics.uci.edu/ml/datasets/Housing\n",
      "\n",
      "\n",
      "This dataset was taken from the StatLib library which is maintained at Carnegie Mellon University.\n",
      "\n",
      "The Boston house-price data of Harrison, D. and Rubinfeld, D.L. 'Hedonic\n",
      "prices and the demand for clean air', J. Environ. Economics & Management,\n",
      "vol.5, 81-102, 1978.   Used in Belsley, Kuh & Welsch, 'Regression diagnostics\n",
      "...', Wiley, 1980.   N.B. Various transformations are used in the table on\n",
      "pages 244-261 of the latter.\n",
      "\n",
      "The Boston house-price data has been used in many machine learning papers that address regression\n",
      "problems.   \n",
      "     \n",
      "**References**\n",
      "\n",
      "   - Belsley, Kuh & Welsch, 'Regression diagnostics: Identifying Influential Data and Sources of Collinearity', Wiley, 1980. 244-261.\n",
      "   - Quinlan,R. (1993). Combining Instance-Based and Model-Based Learning. In Proceedings on the Tenth International Conference of Machine Learning, 236-243, University of Massachusetts, Amherst. Morgan Kaufmann.\n",
      "   - many more! (see http://archive.ics.uci.edu/ml/datasets/Housing)\n",
      "\n"
     ]
    }
   ],
   "source": [
    "# To know more about the features I'll use boston_dataset.DESCR\n",
    "print(boston.DESCR)"
   ]
  },
  {
   "cell_type": "markdown",
   "metadata": {},
   "source": [
    "#### 1. Produce a histogram of the apartments’ price. "
   ]
  },
  {
   "cell_type": "code",
   "execution_count": 6,
   "metadata": {},
   "outputs": [
    {
     "data": {
      "text/plain": [
       "<matplotlib.axes._subplots.AxesSubplot at 0x2ca18690748>"
      ]
     },
     "execution_count": 6,
     "metadata": {},
     "output_type": "execute_result"
    },
    {
     "data": {
      "image/png": "[encoded data removed]",
      "text/plain": [
       "<Figure size 648x432 with 1 Axes>"
      ]
     },
     "metadata": {},
     "output_type": "display_data"
    }
   ],
   "source": [
    "plt.figure(figsize=(9,6))\n",
    "plt.title(\"histogram of the apartments’ price\")\n",
    "plt.xlabel(\"Price\")\n",
    "plt.ylabel(\"Frequency\")\n",
    "\n",
    "df.MEDV.plot.hist(density=True,bins=50)\n",
    "\n",
    "# In case you want the occurrences run this instead:\n",
    "# df.MEDV.plot.hist(bins=50)"
   ]
  },
  {
   "cell_type": "markdown",
   "metadata": {},
   "source": [
    "#### 2. Produce a box plot of the apartments’ price. "
   ]
  },
  {
   "cell_type": "code",
   "execution_count": 12,
   "metadata": {},
   "outputs": [
    {
     "data": {
      "text/plain": [
       "<matplotlib.axes._subplots.AxesSubplot at 0x2ca1866f550>"
      ]
     },
     "execution_count": 12,
     "metadata": {},
     "output_type": "execute_result"
    },
    {
     "data": {
      "image/png": "[encoded data removed]",
      "text/plain": [
       "<Figure size 432x504 with 1 Axes>"
      ]
     },
     "metadata": {},
     "output_type": "display_data"
    }
   ],
   "source": [
    "plt.figure(figsize=(6,7))\n",
    "plt.title(\"box plot of the apartments’ price\")\n",
    "plt.ylabel(\"Price\")\n",
    "\n",
    "df.MEDV.plot.box()"
   ]
  },
  {
   "cell_type": "markdown",
   "metadata": {},
   "source": [
    "#### 3. Produce a correlation matrix of all the features."
   ]
  },
  {
   "cell_type": "code",
   "execution_count": 13,
   "metadata": {},
   "outputs": [
    {
     "name": "stdout",
     "output_type": "stream",
     "text": [
      "correlation matrix of all the features:\n"
     ]
    },
    {
     "data": {
      "text/html": [
       "<div>\n",
       "<style scoped>\n",
       "    .dataframe tbody tr th:only-of-type {\n",
       "        vertical-align: middle;\n",
       "    }\n",
       "\n",
       "    .dataframe tbody tr th {\n",
       "        vertical-align: top;\n",
       "    }\n",
       "\n",
       "    .dataframe thead th {\n",
       "        text-align: right;\n",
       "    }\n",
       "</style>\n",
       "<table border=\"1\" class=\"dataframe\">\n",
       "  <thead>\n",
       "    <tr style=\"text-align: right;\">\n",
       "      <th></th>\n",
       "      <th>CRIM</th>\n",
       "      <th>ZN</th>\n",
       "      <th>INDUS</th>\n",
       "      <th>CHAS</th>\n",
       "      <th>NOX</th>\n",
       "      <th>RM</th>\n",
       "      <th>AGE</th>\n",
       "      <th>DIS</th>\n",
       "      <th>RAD</th>\n",
       "      <th>TAX</th>\n",
       "      <th>PTRATIO</th>\n",
       "      <th>B</th>\n",
       "      <th>LSTAT</th>\n",
       "      <th>MEDV</th>\n",
       "    </tr>\n",
       "  </thead>\n",
       "  <tbody>\n",
       "    <tr>\n",
       "      <th>CRIM</th>\n",
       "      <td>1.000000</td>\n",
       "      <td>-0.199458</td>\n",
       "      <td>0.404471</td>\n",
       "      <td>-0.055295</td>\n",
       "      <td>0.417521</td>\n",
       "      <td>-0.219940</td>\n",
       "      <td>0.350784</td>\n",
       "      <td>-0.377904</td>\n",
       "      <td>0.622029</td>\n",
       "      <td>0.579564</td>\n",
       "      <td>0.288250</td>\n",
       "      <td>-0.377365</td>\n",
       "      <td>0.452220</td>\n",
       "      <td>-0.385832</td>\n",
       "    </tr>\n",
       "    <tr>\n",
       "      <th>ZN</th>\n",
       "      <td>-0.199458</td>\n",
       "      <td>1.000000</td>\n",
       "      <td>-0.533828</td>\n",
       "      <td>-0.042697</td>\n",
       "      <td>-0.516604</td>\n",
       "      <td>0.311991</td>\n",
       "      <td>-0.569537</td>\n",
       "      <td>0.664408</td>\n",
       "      <td>-0.311948</td>\n",
       "      <td>-0.314563</td>\n",
       "      <td>-0.391679</td>\n",
       "      <td>0.175520</td>\n",
       "      <td>-0.412995</td>\n",
       "      <td>0.360445</td>\n",
       "    </tr>\n",
       "    <tr>\n",
       "      <th>INDUS</th>\n",
       "      <td>0.404471</td>\n",
       "      <td>-0.533828</td>\n",
       "      <td>1.000000</td>\n",
       "      <td>0.062938</td>\n",
       "      <td>0.763651</td>\n",
       "      <td>-0.391676</td>\n",
       "      <td>0.644779</td>\n",
       "      <td>-0.708027</td>\n",
       "      <td>0.595129</td>\n",
       "      <td>0.720760</td>\n",
       "      <td>0.383248</td>\n",
       "      <td>-0.356977</td>\n",
       "      <td>0.603800</td>\n",
       "      <td>-0.483725</td>\n",
       "    </tr>\n",
       "    <tr>\n",
       "      <th>CHAS</th>\n",
       "      <td>-0.055295</td>\n",
       "      <td>-0.042697</td>\n",
       "      <td>0.062938</td>\n",
       "      <td>1.000000</td>\n",
       "      <td>0.091203</td>\n",
       "      <td>0.091251</td>\n",
       "      <td>0.086518</td>\n",
       "      <td>-0.099176</td>\n",
       "      <td>-0.007368</td>\n",
       "      <td>-0.035587</td>\n",
       "      <td>-0.121515</td>\n",
       "      <td>0.048788</td>\n",
       "      <td>-0.053929</td>\n",
       "      <td>0.175260</td>\n",
       "    </tr>\n",
       "    <tr>\n",
       "      <th>NOX</th>\n",
       "      <td>0.417521</td>\n",
       "      <td>-0.516604</td>\n",
       "      <td>0.763651</td>\n",
       "      <td>0.091203</td>\n",
       "      <td>1.000000</td>\n",
       "      <td>-0.302188</td>\n",
       "      <td>0.731470</td>\n",
       "      <td>-0.769230</td>\n",
       "      <td>0.611441</td>\n",
       "      <td>0.668023</td>\n",
       "      <td>0.188933</td>\n",
       "      <td>-0.380051</td>\n",
       "      <td>0.590879</td>\n",
       "      <td>-0.427321</td>\n",
       "    </tr>\n",
       "    <tr>\n",
       "      <th>RM</th>\n",
       "      <td>-0.219940</td>\n",
       "      <td>0.311991</td>\n",
       "      <td>-0.391676</td>\n",
       "      <td>0.091251</td>\n",
       "      <td>-0.302188</td>\n",
       "      <td>1.000000</td>\n",
       "      <td>-0.240265</td>\n",
       "      <td>0.205246</td>\n",
       "      <td>-0.209847</td>\n",
       "      <td>-0.292048</td>\n",
       "      <td>-0.355501</td>\n",
       "      <td>0.128069</td>\n",
       "      <td>-0.613808</td>\n",
       "      <td>0.695360</td>\n",
       "    </tr>\n",
       "    <tr>\n",
       "      <th>AGE</th>\n",
       "      <td>0.350784</td>\n",
       "      <td>-0.569537</td>\n",
       "      <td>0.644779</td>\n",
       "      <td>0.086518</td>\n",
       "      <td>0.731470</td>\n",
       "      <td>-0.240265</td>\n",
       "      <td>1.000000</td>\n",
       "      <td>-0.747881</td>\n",
       "      <td>0.456022</td>\n",
       "      <td>0.506456</td>\n",
       "      <td>0.261515</td>\n",
       "      <td>-0.273534</td>\n",
       "      <td>0.602339</td>\n",
       "      <td>-0.376955</td>\n",
       "    </tr>\n",
       "    <tr>\n",
       "      <th>DIS</th>\n",
       "      <td>-0.377904</td>\n",
       "      <td>0.664408</td>\n",
       "      <td>-0.708027</td>\n",
       "      <td>-0.099176</td>\n",
       "      <td>-0.769230</td>\n",
       "      <td>0.205246</td>\n",
       "      <td>-0.747881</td>\n",
       "      <td>1.000000</td>\n",
       "      <td>-0.494588</td>\n",
       "      <td>-0.534432</td>\n",
       "      <td>-0.232471</td>\n",
       "      <td>0.291512</td>\n",
       "      <td>-0.496996</td>\n",
       "      <td>0.249929</td>\n",
       "    </tr>\n",
       "    <tr>\n",
       "      <th>RAD</th>\n",
       "      <td>0.622029</td>\n",
       "      <td>-0.311948</td>\n",
       "      <td>0.595129</td>\n",
       "      <td>-0.007368</td>\n",
       "      <td>0.611441</td>\n",
       "      <td>-0.209847</td>\n",
       "      <td>0.456022</td>\n",
       "      <td>-0.494588</td>\n",
       "      <td>1.000000</td>\n",
       "      <td>0.910228</td>\n",
       "      <td>0.464741</td>\n",
       "      <td>-0.444413</td>\n",
       "      <td>0.488676</td>\n",
       "      <td>-0.381626</td>\n",
       "    </tr>\n",
       "    <tr>\n",
       "      <th>TAX</th>\n",
       "      <td>0.579564</td>\n",
       "      <td>-0.314563</td>\n",
       "      <td>0.720760</td>\n",
       "      <td>-0.035587</td>\n",
       "      <td>0.668023</td>\n",
       "      <td>-0.292048</td>\n",
       "      <td>0.506456</td>\n",
       "      <td>-0.534432</td>\n",
       "      <td>0.910228</td>\n",
       "      <td>1.000000</td>\n",
       "      <td>0.460853</td>\n",
       "      <td>-0.441808</td>\n",
       "      <td>0.543993</td>\n",
       "      <td>-0.468536</td>\n",
       "    </tr>\n",
       "    <tr>\n",
       "      <th>PTRATIO</th>\n",
       "      <td>0.288250</td>\n",
       "      <td>-0.391679</td>\n",
       "      <td>0.383248</td>\n",
       "      <td>-0.121515</td>\n",
       "      <td>0.188933</td>\n",
       "      <td>-0.355501</td>\n",
       "      <td>0.261515</td>\n",
       "      <td>-0.232471</td>\n",
       "      <td>0.464741</td>\n",
       "      <td>0.460853</td>\n",
       "      <td>1.000000</td>\n",
       "      <td>-0.177383</td>\n",
       "      <td>0.374044</td>\n",
       "      <td>-0.507787</td>\n",
       "    </tr>\n",
       "    <tr>\n",
       "      <th>B</th>\n",
       "      <td>-0.377365</td>\n",
       "      <td>0.175520</td>\n",
       "      <td>-0.356977</td>\n",
       "      <td>0.048788</td>\n",
       "      <td>-0.380051</td>\n",
       "      <td>0.128069</td>\n",
       "      <td>-0.273534</td>\n",
       "      <td>0.291512</td>\n",
       "      <td>-0.444413</td>\n",
       "      <td>-0.441808</td>\n",
       "      <td>-0.177383</td>\n",
       "      <td>1.000000</td>\n",
       "      <td>-0.366087</td>\n",
       "      <td>0.333461</td>\n",
       "    </tr>\n",
       "    <tr>\n",
       "      <th>LSTAT</th>\n",
       "      <td>0.452220</td>\n",
       "      <td>-0.412995</td>\n",
       "      <td>0.603800</td>\n",
       "      <td>-0.053929</td>\n",
       "      <td>0.590879</td>\n",
       "      <td>-0.613808</td>\n",
       "      <td>0.602339</td>\n",
       "      <td>-0.496996</td>\n",
       "      <td>0.488676</td>\n",
       "      <td>0.543993</td>\n",
       "      <td>0.374044</td>\n",
       "      <td>-0.366087</td>\n",
       "      <td>1.000000</td>\n",
       "      <td>-0.737663</td>\n",
       "    </tr>\n",
       "    <tr>\n",
       "      <th>MEDV</th>\n",
       "      <td>-0.385832</td>\n",
       "      <td>0.360445</td>\n",
       "      <td>-0.483725</td>\n",
       "      <td>0.175260</td>\n",
       "      <td>-0.427321</td>\n",
       "      <td>0.695360</td>\n",
       "      <td>-0.376955</td>\n",
       "      <td>0.249929</td>\n",
       "      <td>-0.381626</td>\n",
       "      <td>-0.468536</td>\n",
       "      <td>-0.507787</td>\n",
       "      <td>0.333461</td>\n",
       "      <td>-0.737663</td>\n",
       "      <td>1.000000</td>\n",
       "    </tr>\n",
       "  </tbody>\n",
       "</table>\n",
       "</div>"
      ],
      "text/plain": [
       "             CRIM        ZN     INDUS      CHAS       NOX        RM       AGE  \\\n",
       "CRIM     1.000000 -0.199458  0.404471 -0.055295  0.417521 -0.219940  0.350784   \n",
       "ZN      -0.199458  1.000000 -0.533828 -0.042697 -0.516604  0.311991 -0.569537   \n",
       "INDUS    0.404471 -0.533828  1.000000  0.062938  0.763651 -0.391676  0.644779   \n",
       "CHAS    -0.055295 -0.042697  0.062938  1.000000  0.091203  0.091251  0.086518   \n",
       "NOX      0.417521 -0.516604  0.763651  0.091203  1.000000 -0.302188  0.731470   \n",
       "RM      -0.219940  0.311991 -0.391676  0.091251 -0.302188  1.000000 -0.240265   \n",
       "AGE      0.350784 -0.569537  0.644779  0.086518  0.731470 -0.240265  1.000000   \n",
       "DIS     -0.377904  0.664408 -0.708027 -0.099176 -0.769230  0.205246 -0.747881   \n",
       "RAD      0.622029 -0.311948  0.595129 -0.007368  0.611441 -0.209847  0.456022   \n",
       "TAX      0.579564 -0.314563  0.720760 -0.035587  0.668023 -0.292048  0.506456   \n",
       "PTRATIO  0.288250 -0.391679  0.383248 -0.121515  0.188933 -0.355501  0.261515   \n",
       "B       -0.377365  0.175520 -0.356977  0.048788 -0.380051  0.128069 -0.273534   \n",
       "LSTAT    0.452220 -0.412995  0.603800 -0.053929  0.590879 -0.613808  0.602339   \n",
       "MEDV    -0.385832  0.360445 -0.483725  0.175260 -0.427321  0.695360 -0.376955   \n",
       "\n",
       "              DIS       RAD       TAX   PTRATIO         B     LSTAT      MEDV  \n",
       "CRIM    -0.377904  0.622029  0.579564  0.288250 -0.377365  0.452220 -0.385832  \n",
       "ZN       0.664408 -0.311948 -0.314563 -0.391679  0.175520 -0.412995  0.360445  \n",
       "INDUS   -0.708027  0.595129  0.720760  0.383248 -0.356977  0.603800 -0.483725  \n",
       "CHAS    -0.099176 -0.007368 -0.035587 -0.121515  0.048788 -0.053929  0.175260  \n",
       "NOX     -0.769230  0.611441  0.668023  0.188933 -0.380051  0.590879 -0.427321  \n",
       "RM       0.205246 -0.209847 -0.292048 -0.355501  0.128069 -0.613808  0.695360  \n",
       "AGE     -0.747881  0.456022  0.506456  0.261515 -0.273534  0.602339 -0.376955  \n",
       "DIS      1.000000 -0.494588 -0.534432 -0.232471  0.291512 -0.496996  0.249929  \n",
       "RAD     -0.494588  1.000000  0.910228  0.464741 -0.444413  0.488676 -0.381626  \n",
       "TAX     -0.534432  0.910228  1.000000  0.460853 -0.441808  0.543993 -0.468536  \n",
       "PTRATIO -0.232471  0.464741  0.460853  1.000000 -0.177383  0.374044 -0.507787  \n",
       "B        0.291512 -0.444413 -0.441808 -0.177383  1.000000 -0.366087  0.333461  \n",
       "LSTAT   -0.496996  0.488676  0.543993  0.374044 -0.366087  1.000000 -0.737663  \n",
       "MEDV     0.249929 -0.381626 -0.468536 -0.507787  0.333461 -0.737663  1.000000  "
      ]
     },
     "execution_count": 13,
     "metadata": {},
     "output_type": "execute_result"
    }
   ],
   "source": [
    "print('correlation matrix of all the features:')\n",
    "df.corr()"
   ]
  },
  {
   "cell_type": "code",
   "execution_count": 17,
   "metadata": {},
   "outputs": [
    {
     "data": {
      "text/plain": [
       "<matplotlib.axes._subplots.AxesSubplot at 0x2ca191f6860>"
      ]
     },
     "execution_count": 17,
     "metadata": {},
     "output_type": "execute_result"
    },
    {
     "data": {
      "image/png": "[encoded data removed]",
      "text/plain": [
       "<Figure size 576x432 with 2 Axes>"
      ]
     },
     "metadata": {},
     "output_type": "display_data"
    }
   ],
   "source": [
    "# In case you want also a heatmap of the correlations:\n",
    "plt.figure(figsize=(8,6))\n",
    "sns.heatmap(df.corr())\n"
   ]
  },
  {
   "cell_type": "markdown",
   "metadata": {},
   "source": [
    "#### 4. Select the 2 pairs of features with the highest correlation (positive or negative) and plot 2 scatter plots with marginal histograms (JoinPlot)\n"
   ]
  },
  {
   "cell_type": "code",
   "execution_count": 46,
   "metadata": {},
   "outputs": [
    {
     "data": {
      "text/plain": [
       "<seaborn.axisgrid.JointGrid at 0x2528e736f60>"
      ]
     },
     "execution_count": 46,
     "metadata": {},
     "output_type": "execute_result"
    },
    {
     "data": {
      "image/png": "[encoded data removed]",
      "text/plain": [
       "<Figure size 432x432 with 3 Axes>"
      ]
     },
     "metadata": {},
     "output_type": "display_data"
    },
    {
     "data": {
      "image/png": "[encoded data removed]",
      "text/plain": [
       "<Figure size 432x432 with 3 Axes>"
      ]
     },
     "metadata": {},
     "output_type": "display_data"
    }
   ],
   "source": [
    "pairs = df.corr().abs().unstack().nlargest(n=len(df.columns)+4).nsmallest(4).index.values\n",
    "pair1 = pairs[0]\n",
    "pair2 = pairs[2]\n",
    "\n",
    "# pair1\n",
    "sns.jointplot(x=df[pair1[0]],y=df[pair1[1]],kind=\"scatter\")\n",
    "\n",
    "# pair2\n",
    "sns.jointplot(x=df[pair2[0]],y=df[pair2[1]],kind=\"scatter\")\n",
    "\n",
    "# personally I would use kind=\"reg\", cuz it more \"complete scatter\". but you specifically asked for scatter."
   ]
  },
  {
   "cell_type": "markdown",
   "metadata": {},
   "source": [
    "#### 5. Produce a cumulative histogram of the age variable and add two horizontal lines on the first and third quartile (on the cumulative count)"
   ]
  },
  {
   "cell_type": "code",
   "execution_count": 153,
   "metadata": {},
   "outputs": [
    {
     "data": {
      "text/plain": [
       "<matplotlib.legend.Legend at 0x243ba14f9b0>"
      ]
     },
     "execution_count": 153,
     "metadata": {},
     "output_type": "execute_result"
    },
    {
     "data": {
      "image/png": "[encoded data removed]",
      "text/plain": [
       "<Figure size 648x432 with 1 Axes>"
      ]
     },
     "metadata": {},
     "output_type": "display_data"
    }
   ],
   "source": [
    "import scipy.stats as ss\n",
    "\n",
    "plt.figure(figsize=(9,6))\n",
    "plt.title(\"cumulative histogram of the age\")\n",
    "plt.xlabel(\"Age\")\n",
    "plt.ylabel(\"Cumulative Count\")\n",
    "\n",
    "bins = int(round(df.AGE.max()))\n",
    "cc = ss.cumfreq(df.AGE,numbins=bins).cumcount\n",
    "q25 = np.percentile(cc,25)\n",
    "q75 = np.percentile(cc,75)\n",
    "\n",
    "age_plot = df.AGE.plot.hist(cumulative = True,bins=100 )\n",
    "plt.axhline(q25, color='green', linestyle='dashed', linewidth=2,label='first quartile')\n",
    "plt.axhline(q75, color='pink', linestyle='dashed', linewidth=2,label='third quartile ')\n",
    "plt.legend()"
   ]
  },
  {
   "cell_type": "markdown",
   "metadata": {},
   "source": [
    "#### 6. Identify and report 2 “interesting” trends in the data. No need to provide statistical confidence at this point. "
   ]
  },
  {
   "cell_type": "markdown",
   "metadata": {},
   "source": [
    "Here are two \"intresting\" trends:\n",
    "- By looking at the histogram of MEDV, I can see that the values of MEDV are distributed normally with few outliers.\n",
    "- By looking at the correlation matrix, I can see that RM has a strong positive correlation(about 0.7) with MEDV, whereas LSTAT has a high negative correlation(about -0.74) with MEDV.\n",
    "\n",
    "<br>\n",
    "\n",
    "Here are two trends that are actually intresting:\n",
    "- By looking at the correlation between NOX and DIS, I can asume that the closer the proximity to the employment centres, the higher the nitric oxide concentration.\n",
    "- By looking at the strong positive correlation between TAX and RAD, which implies that as accessibility of radial highways increases, the full value property-tax rate also increases."
   ]
  },
  {
   "cell_type": "markdown",
   "metadata": {},
   "source": [
    "## Question 2 - Gaussian mixtures"
   ]
  },
  {
   "cell_type": "markdown",
   "metadata": {},
   "source": [
    "In this question N(μ, σ2) stands for a normal distribution with mean μ and variance σ2. <br>\n",
    "Fred, Mel and Sid are repair technicians who work for Randobezeq – a phone company. <br>\n",
    "* Fast Fred takes time which is distributed as N(40, 16) to repair a telephone line failure at a customer’s home.\n",
    "* Medium Mel takes time which is N(45, 36) for the same task.\n",
    "* Slow Sid takes time which is N(50, 64) for the same task."
   ]
  },
  {
   "cell_type": "markdown",
   "metadata": {},
   "source": [
    "#### 2.A\n",
    "\n",
    "Fred is due to arrive to repair your phone at 11AM tomorrow. How confident can you be that you will be done by 11:45? "
   ]
  },
  {
   "cell_type": "code",
   "execution_count": 19,
   "metadata": {},
   "outputs": [
    {
     "name": "stdout",
     "output_type": "stream",
     "text": [
      "you can be 89.44% confident that Fred will be done by 11:45. \n"
     ]
    }
   ],
   "source": [
    "from scipy.stats import norm\n",
    "\n",
    "print('you can be {0}% confident that Fred will be done by 11:45. '.format(round(norm(loc=40,scale=4).cdf(45),4)*100))"
   ]
  },
  {
   "cell_type": "markdown",
   "metadata": {},
   "source": [
    "When a customer in North Randomistan orders a repair, there is a 40% chance Fred will do the work and 30% each that Mel or Sid will do the work. "
   ]
  },
  {
   "cell_type": "markdown",
   "metadata": {},
   "source": [
    "#### 2.B\n",
    "\n",
    "What is the distribution of the duration of repair in North Randomistan?"
   ]
  },
  {
   "cell_type": "markdown",
   "metadata": {},
   "source": [
    "It is a Gaussian mixture distribution."
   ]
  },
  {
   "cell_type": "markdown",
   "metadata": {},
   "source": [
    "##### Note:\n",
    "It is not clear if I should give an equation or an actual distribution.I assume you meant the latter.\n"
   ]
  },
  {
   "cell_type": "markdown",
   "metadata": {},
   "source": [
    "###### Solution as shown in class:"
   ]
  },
  {
   "cell_type": "code",
   "execution_count": 28,
   "metadata": {},
   "outputs": [
    {
     "name": "stdout",
     "output_type": "stream",
     "text": [
      "GMM mean: 44.434\n",
      "GMM var: 52.481\n"
     ]
    },
    {
     "data": {
      "image/png": "[encoded data removed]",
      "text/plain": [
       "<Figure size 1080x720 with 1 Axes>"
      ]
     },
     "metadata": {},
     "output_type": "display_data"
    },
    {
     "data": {
      "image/png": "[encoded data removed]",
      "text/plain": [
       "<Figure size 1080x720 with 1 Axes>"
      ]
     },
     "metadata": {},
     "output_type": "display_data"
    }
   ],
   "source": [
    "from scipy import stats \n",
    "# create Q's data\n",
    "info = {}\n",
    "info['size'] = 10000\n",
    "info['fred'] = {}\n",
    "info['mel'] = {}\n",
    "info['sid'] = {}\n",
    "\n",
    "info['fred']['mean'] = 40\n",
    "info['mel']['mean'] = 45\n",
    "info['sid']['mean'] = 50\n",
    "\n",
    "info['fred']['std'] = 4\n",
    "info['mel']['std'] = 6\n",
    "info['sid']['std'] = 8\n",
    "\n",
    "info['fred']['weight']  = 0.4\n",
    "info['mel']['weight']  = 0.3\n",
    "info['sid']['weight']  = 0.3\n",
    "\n",
    "info['fred']['values']  = norm(loc=info['fred']['mean'],scale=info['fred']['std']).rvs(info['size'])\n",
    "info['mel']['values']  = norm(loc=info['mel']['mean'],scale=info['mel']['std']).rvs(info['size'])\n",
    "info['sid']['values']  = norm(loc=info['sid']['mean'],scale=info['sid']['std']).rvs(info['size'])\n",
    "\n",
    "# create GMM's\n",
    "info['GMM'] = np.empty(info['size'])\n",
    "\n",
    "for i in range(info['size']):\n",
    "    p = stats.uniform.rvs(size=1)\n",
    "    \n",
    "    if p<info['fred']['weight']: #fred\n",
    "        r = np.random.choice(info['fred']['values'])\n",
    "    elif p< info['fred']['weight'] + info['mel']['weight']: #mel\n",
    "        r = np.random.choice(info['mel']['values'])\n",
    "    elif p < info['fred']['weight'] + info['mel']['weight'] + info['sid']['weight'] : #sid\n",
    "        r = np.random.choice(info['sid']['values'])\n",
    "    else: # in case of error or prb not sum to 1\n",
    "        r = -1\n",
    "        \n",
    "    info['GMM'][i] = r \n",
    "\n",
    "print('GMM mean: ' + str(round(np.mean(info['GMM']),3)))    \n",
    "print('GMM var: ' + str(round(np.var(info['GMM']),3)))    \n",
    "\n",
    "    \n",
    "plt.figure(figsize=(15,10))\n",
    "sns.distplot(info['GMM'],bins=100)\n",
    "plt.title('GMM')\n",
    "plt.show()\n",
    "\n",
    "plt.figure(figsize=(15,10))\n",
    "sns.distplot(info['fred']['values'],bins=100,label='fred',color='red')\n",
    "sns.distplot(info['mel']['values'],bins=100,label='mel',color='green')\n",
    "sns.distplot(info['sid']['values'],bins=100,label='sid',color='orange')\n",
    "plt.legend()\n",
    "plt.show()"
   ]
  },
  {
   "cell_type": "markdown",
   "metadata": {},
   "source": [
    "###### Another 'pythonic' solution:\n",
    "\n",
    "    import numpy as np  \n",
    "    import numpy.random  \n",
    "    import scipy.stats as ss  \n",
    "    import matplotlib.pyplot as plt  \n",
    "\n",
    "\n",
    "    n = info['size']  \n",
    "    norm_params = np.array([[info['fred']['mean'], info['fred']['std']],[info['mel']['mean'], info['mel']['std']],[info['sid']['mean'], info['sid']['std']]])  \n",
    "    weights = np.array([info['fred']['weight'],info['mel']['weight'],info['sid']['weight']])  \n",
    "    n_components = len(weights)  \n",
    "\n",
    "    ##### A stream from which to choose the component  \n",
    "    mixture_idx = numpy.random.choice(n_components, size=n, replace=True, p=weights)  \n",
    "\n",
    "    ##### the mixture sample  \n",
    "    y = numpy.fromiter((ss.norm.rvs(*(norm_params[i])) for i in mixture_idx),dtype=np.float64)  \n",
    "\n",
    "    ##### generate the x and y plotting positions  \n",
    "    xs = np.linspace(y.min(), y.max(), 200)  \n",
    "    ys = np.zeros_like(xs)  \n",
    "\n",
    "    for (l, s), w in zip(norm_params, weights):  \n",
    "        ys += ss.norm.pdf(xs, loc=l, scale=s) * w  \n",
    "\n",
    "    plt.figure(figsize=(15,10))  \n",
    "    plt.plot(xs, ys)  \n",
    "    plt.hist(y, normed=True, bins=100)  \n",
    "    plt.show()  "
   ]
  },
  {
   "cell_type": "markdown",
   "metadata": {},
   "source": [
    "#### 2.C\n",
    "Let Φ denote the CDF of a standard normal random variable. Use Φ to express the CDF of the duration of a repair in North Randomistan."
   ]
  },
  {
   "cell_type": "markdown",
   "metadata": {},
   "source": [
    "$$ \\Phi_{repair}=\\Sigma w_{i}\\Phi_{\\mu_{i},\\sigma_{i}}(x) $$\n",
    "\n",
    "$$ \\Phi_{fred}=\\Phi\\bigg(\\frac{X-\\mu_{fred}}{\\sigma_{fred}}\\bigg)=\\Phi\\bigg(\\frac{x-40}{16}\\bigg)  \\space,\\space\\space  W_{fred} = 0.4$$\n",
    "\n",
    "$$ \\Phi_{mel}=\\Phi\\bigg(\\frac{X-\\mu_{mel}}{\\sigma_{mel}}\\bigg)=\\Phi\\bigg(\\frac{x-45}{36}\\bigg) \\space,\\space\\space  W_{mel} = 0.4$$\n",
    "\n",
    "$$ \\Phi_{sid}=\\Phi\\bigg(\\frac{X-\\mu_{sid}}{\\sigma_{sid}}\\bigg)=\\Phi\\bigg(\\frac{x-50}{64}\\bigg) \\space,\\space\\space  W_{sid} = 0.4$$\n",
    "\n",
    "$$ \\Phi_{repair}=0.4 \\Phi\\bigg(\\frac{x-40}{16}\\bigg) + 0.3 \\Phi\\bigg(\\frac{x-45}{36}\\bigg) + 0.3 \\Phi\\bigg(\\frac{x-50}{64}\\bigg) $$"
   ]
  },
  {
   "cell_type": "markdown",
   "metadata": {},
   "source": [
    "#### 2.D\n",
    "\n",
    "If the repair starts at 11AM, what is the earliest time for which the customer can assume, at a 95% certainty, that the repair will be already done?"
   ]
  },
  {
   "cell_type": "code",
   "execution_count": 87,
   "metadata": {},
   "outputs": [
    {
     "name": "stdout",
     "output_type": "stream",
     "text": [
      "With a certainty of %95, you can be confident that the earliest it will be done is within 59 minutes (after 11AM)\n"
     ]
    }
   ],
   "source": [
    "# minutes datapoints\n",
    "n = np.arange(100)\n",
    "\n",
    "# create wieghted CDFs\n",
    "info['fred']['cdf_w'] = info['fred']['weight'] * norm.cdf(n,loc=info['fred']['mean'],scale=info['fred']['std'])\n",
    "info['mel']['cdf_w'] = info['mel']['weight'] * norm.cdf(n,loc=info['mel']['mean'],scale=info['mel']['std'])\n",
    "info['sid']['cdf_w'] = info['sid']['weight'] * norm.cdf(n,loc=info['sid']['mean'],scale=info['sid']['std'])\n",
    "\n",
    "# get confidence for every minute datapoint\n",
    "confidence = info['fred']['cdf_w'] + info['mel']['cdf_w'] + info['sid']['cdf_w']\n",
    "\n",
    "# get the minute which the CDF is bigger then %95\n",
    "minute = np.argmax(confidence>=0.95)\n",
    "\n",
    "# get the time which that index represent\n",
    "print('With a certainty of %95, you can be confident that the earliest it will be done is within ' + str(minute) + ' minutes (after 11AM)')"
   ]
  },
  {
   "cell_type": "markdown",
   "metadata": {},
   "source": [
    "### Question 3 - Gaussian mixtures – parameter estimation and generation"
   ]
  },
  {
   "cell_type": "markdown",
   "metadata": {},
   "source": [
    "Consider the data provided in GMD.xlsx\n",
    "Assume that the data comes from a Gaussian mixture distribution (GMD). Furthermore, assume that μ1=0 and that σ1=σ2=1.\n",
    "Read the data and answer the following questions."
   ]
  },
  {
   "cell_type": "code",
   "execution_count": 93,
   "metadata": {},
   "outputs": [
    {
     "data": {
      "image/png": "[encoded data removed]",
      "text/plain": [
       "<Figure size 432x288 with 1 Axes>"
      ]
     },
     "metadata": {},
     "output_type": "display_data"
    }
   ],
   "source": [
    "import pandas as pd\n",
    "import numpy as np\n",
    "\n",
    "df = pd.read_excel('GMD.xlsx',header=None)\n",
    "arr = df.values\n",
    "\n",
    "df.plot(kind='kde')\n",
    "plt.title('KDE of the GMD')\n",
    "plt.show()"
   ]
  },
  {
   "cell_type": "markdown",
   "metadata": {},
   "source": [
    "#### 3.A\n",
    "Provide an estimate for the other parameters of the distribution in two different ways."
   ]
  },
  {
   "cell_type": "markdown",
   "metadata": {},
   "source": [
    "### NOTE: \n",
    "I did several ways, due to  Ben's answer in Piazza, that happen after I already did everything.   \n",
    "And I did not want to delete my \"hard work\".   \n",
    "so just in case here are 4 ways.  "
   ]
  },
  {
   "cell_type": "markdown",
   "metadata": {},
   "source": [
    "##### First way - Using GaussianMixture by scikit-learn"
   ]
  },
  {
   "cell_type": "code",
   "execution_count": 102,
   "metadata": {},
   "outputs": [
    {
     "name": "stdout",
     "output_type": "stream",
     "text": [
      "1st Method by scikit learn:\n",
      "\tThe estimated means are:      -0.136 , 3.966 \n",
      "\tThe estimated covariances are: 0.958 , 0.952 \n",
      "\tThe estimated weights are:     0.207 , 0.793 \n"
     ]
    }
   ],
   "source": [
    "def GMM_sklearn(arr):\n",
    "    from sklearn.mixture import GaussianMixture\n",
    "    \n",
    "    # givven\n",
    "    random_e1 = 1\n",
    "    random_v1 = 1\n",
    "    random_v2 = 1\n",
    "    \n",
    "    # get a 'close' random mean\n",
    "    random_e2 = np.mean(arr)\n",
    "    \n",
    "    # shuffled the data\n",
    "    arr_shuffled = np.random.shuffle(arr)\n",
    "    \n",
    "    # model\n",
    "    gm = GaussianMixture(n_components=2,verbose=False,means_init=[[1],[random_e2]],precisions_init=[[[1]],[[1]]])\n",
    "    gm.fit(arr)\n",
    "\n",
    "    # get params\n",
    "    means = gm.means_\n",
    "    covs = gm.covariances_\n",
    "    weights = gm.weights_\n",
    "    \n",
    "    print('1st Method by scikit learn:')\n",
    "    print('\\tThe estimated means are:      {0} , {1} '.format(round(means[0][0],3),round(means[1][0],3)))\n",
    "    print('\\tThe estimated covariances are: {0} , {1} '.format(round(covs[0][0][0],3),round(covs[1][0][0],3))   )\n",
    "    print('\\tThe estimated weights are:     {0} , {1} '.format(round(weights[0],3),round(weights[1],3))   )\n",
    "    return gm \n",
    "\n",
    "gm = GMM_sklearn(arr)"
   ]
  },
  {
   "cell_type": "markdown",
   "metadata": {},
   "source": [
    "##### Second way - Calculation"
   ]
  },
  {
   "cell_type": "code",
   "execution_count": 104,
   "metadata": {},
   "outputs": [
    {
     "name": "stdout",
     "output_type": "stream",
     "text": [
      "2st Method by calculation:\n",
      "\tThe estimated means are:       0 , 3.989 \n",
      "\tThe estimated covariances are: 1 , 1 \n",
      "\tThe estimated weights are:     0.219 , 0.781 \n"
     ]
    }
   ],
   "source": [
    "# givven\n",
    "mean1 = 0\n",
    "var1 = 1\n",
    "var2 = 1\n",
    "\n",
    "# general dataset\n",
    "general_mean = np.mean(df)[0]\n",
    "general_var = pd.DataFrame.var(df)[0]\n",
    "\n",
    "# second mean calculation\n",
    "mean2 = (general_var + general_mean**2 - 1) / general_mean\n",
    "\n",
    "# weights calculations\n",
    "weight2 = general_mean/mean2\n",
    "weight1 = 1-weight2\n",
    "\n",
    "print('2st Method by calculation:')\n",
    "print('\\tThe estimated means are:       {0} , {1} '.format(round(mean1,3),round(mean2,3)))\n",
    "print('\\tThe estimated covariances are: {0} , {1} '.format(round(var1**2,3),round(var2**2,3)))\n",
    "print('\\tThe estimated weights are:     {0} , {1} '.format(round(weight1,3),round(weight2,3)))"
   ]
  },
  {
   "cell_type": "markdown",
   "metadata": {},
   "source": [
    "##### Third way - Searching"
   ]
  },
  {
   "cell_type": "code",
   "execution_count": 105,
   "metadata": {},
   "outputs": [
    {
     "name": "stdout",
     "output_type": "stream",
     "text": [
      "2st Method by search:\n",
      "\tThe estimated means are:       0.0 , 3.939 \n",
      "\tThe estimated covariances are: 1.0 , 1.0 \n",
      "\tThe estimated weights are:     0.202 , 0.798 \n"
     ]
    }
   ],
   "source": [
    "# using \"grid search\" in order to find the fourth parameter\n",
    "\n",
    "from itertools import product\n",
    "\n",
    "sorted_df = df.copy().sort_values(by=0).values\n",
    "size = len(sorted_df)\n",
    "\n",
    "# initial values for search\n",
    "sigma_size = (1,2)\n",
    "mean_range = (-10,10)\n",
    "mean_size = 100\n",
    "weight_size = 100\n",
    "\n",
    "# \n",
    "sigma = np.ones(sigma_size)\n",
    "mean = np.vstack((np.zeros(mean_size), np.linspace(mean_range[0],mean_range[1],mean_size))).T\n",
    "weight = np.vstack((np.linspace(0,1,weight_size), 1-np.linspace(0,1,weight_size))).T\n",
    "product_values = list(product(weight,mean,sigma))\n",
    "\n",
    "# create all combinations for search\n",
    "combinations = pd.DataFrame(product_values, columns=[\"Weight\", \"Mean\", \"Sigma\"])\n",
    "err_arr = np.array([])\n",
    "\n",
    "# search\n",
    "for _, row in combinations.iterrows():\n",
    "    dist1 = np.random.normal(loc = row.Mean[0], scale = row.Sigma[0], size = int(round(row.Weight[0] * size)))\n",
    "    dist2 = np.random.normal(loc = row.Mean[1], scale = row.Sigma[1], size = int(round(row.Weight[1] * size)))\n",
    "    mixture = np.sort(np.append(dist1, dist2))\n",
    "    err_arr = np.append(err_arr, np.abs(sorted_df.flatten() - mixture).sum())\n",
    "\n",
    "# get the optimal error rate\n",
    "optimum = combinations.iloc[np.argmin(err_arr)]\n",
    "\n",
    "print('2st Method by search:')\n",
    "print('\\tThe estimated means are:       {0} , {1} '.format(round(optimum.loc[\"Mean\"][0],3),round(optimum.loc[\"Mean\"][1],3)))\n",
    "print('\\tThe estimated covariances are: {0} , {1} '.format(round(optimum.loc[\"Sigma\"][0]**2,3),round(optimum.loc[\"Sigma\"][1]**2,3))   )\n",
    "print('\\tThe estimated weights are:     {0} , {1} '.format(round(optimum.loc[\"Weight\"][0],3),round(optimum.loc[\"Weight\"][1],3))   )"
   ]
  },
  {
   "cell_type": "markdown",
   "metadata": {},
   "source": [
    "##### Fourth way  - Using EM algorithm\n",
    "    import scipy.stats as ss\n",
    "\n",
    "    #get a 'close' random mean\n",
    "    random_e2 = np.mean(arr)\n",
    "\n",
    "    #shuffled the data\n",
    "    arr_shuffled = np.random.shuffle(arr)\n",
    "\n",
    "    #Expectation–Maximization algorithm\n",
    "\n",
    "    class EM:\n",
    "\n",
    "        def __init__(self,values,mean1,std1,std2):\n",
    "            self.values = values\n",
    "            self.mean1_given = mean1\n",
    "            self.std1_given = std1\n",
    "            self.std2_given = std2\n",
    "            self.iterations = 4\n",
    "\n",
    "        def initial_step(self):\n",
    "            self.mean1 = 1 #np.random.randint(low=np.min(self.values),high=np.max(self.values))\n",
    "            self.mean2 = 4 #np.random.randint(low=np.min(self.values),high=np.max(self.values))\n",
    "            self.std1 = self.std1_given\n",
    "            self.std2 = self.std2_given\n",
    "            self.w1 = 0.5\n",
    "            self.w2 = 0.5\n",
    "\n",
    "\n",
    "        def e_step(self):\n",
    "            print('self.mean1' + ' ' + str(self.mean1))\n",
    "            print('self.std1' + ' ' + str(self.std1))\n",
    "            print('self.w1' + ' ' + str(self.w1))\n",
    "            self.proba1 = self.w1 * ss.norm.pdf(self.values,loc=self.mean1,scale=self.std1)\n",
    "            self.proba2 = self.w2 * ss.norm.pdf(self.values,loc=self.mean2,scale=self.std2)\n",
    "            self.proba_total = self.proba1+self.proba2\n",
    "            print('self.proba1[0] = ' + str(self.proba1[0]))\n",
    "\n",
    "\n",
    "        def m_step(self):\n",
    "            size = len(self.values)\n",
    "            r1 = np.divide(self.proba1,self.proba_total)\n",
    "            r2 = np.divide(self.proba2,self.proba_total)\n",
    "            self.w1_new = r1.sum() / size\n",
    "            self.w2_new = r2.sum() / size\n",
    "            self.mean1_new = r1.sum() / self.w1_new\n",
    "            self.mean2_new = r2.sum() / self.w2_new\n",
    "\n",
    "\n",
    "        def iterate_until_convergence(self):\n",
    "            self.initial_step()\n",
    "\n",
    "            # stop by iteration\n",
    "            for i in range(self.iterations):\n",
    "                print('i = ' + str(i))\n",
    "\n",
    "                # main steps\n",
    "                self.e_step()\n",
    "                self.m_step()\n",
    "\n",
    "                # stop if all new w1,w2,mean1,mean2 are close to current ones\n",
    "                f1 = np.isclose(a=self.mean1,b=self.mean1_new,atol=0.01)\n",
    "                f2 = np.isclose(a=self.mean2,b=self.mean2_new,atol=0.01)\n",
    "                f3 = np.isclose(a=self.w1,b=self.w1_new,atol=0.01)\n",
    "                f4 = np.isclose(a=self.w2,b=self.w2_new,atol=0.01)\n",
    "\n",
    "                if f1+f2+f3+f4 == 4:\n",
    "                    return 1 # converge\n",
    "\n",
    "                print(self.mean1)\n",
    "                print(self.mean2)\n",
    "                print(self.w1)\n",
    "                print(self.w2)\n",
    "\n",
    "                self.mean1 = self.mean1_new        \n",
    "                self.mean2 = self.mean2_new\n",
    "                self.w1 = self.w1_new\n",
    "                self.w2 = self.w2_new\n",
    "                print()\n",
    "\n",
    "            return 0 # iteration\n",
    "\n",
    "    em = EM(mean1=1,std1=1,std2=1,values=df.values)\n",
    "    em.iterate_until_convergence()"
   ]
  },
  {
   "cell_type": "markdown",
   "metadata": {},
   "source": [
    "#### 3.B\n",
    "Plot a graph of the pdf of the distribution you inferred. Select adequate limits for the axes for this plot and explain your decision."
   ]
  },
  {
   "cell_type": "code",
   "execution_count": 106,
   "metadata": {},
   "outputs": [
    {
     "data": {
      "image/png": "[encoded data removed]",
      "text/plain": [
       "<Figure size 432x288 with 1 Axes>"
      ]
     },
     "metadata": {},
     "output_type": "display_data"
    },
    {
     "name": "stdout",
     "output_type": "stream",
     "text": [
      "I Set the limits far enough to see the line getting close enough to Zero\n"
     ]
    }
   ],
   "source": [
    "x = np.linspace(np.min(arr), np.max(arr), 1000)\n",
    "\n",
    "# plot\n",
    "sns.distplot(arr,bins=100)\n",
    "\n",
    "# title\n",
    "plt.title('GMM - pdf')\n",
    "plt.ylabel('Frequency')\n",
    "plt.xlabel('Value')\n",
    "\n",
    "# I set the limits far enough to see the line getting close enough to Zero\n",
    "plt.xlim(xmin=np.min(arr)-2,xmax=np.max(arr)+2)\n",
    "\n",
    "plt.show()\n",
    "\n",
    "print('I Set the limits far enough to see the line getting close enough to Zero')"
   ]
  },
  {
   "cell_type": "markdown",
   "metadata": {},
   "source": [
    "#### 3.C\n",
    "Describe two ways for generating data for a GMD random variable with:\n",
    "* centers at  μ1+3 and μ2+5 \n",
    "* σ1=σ2=1\n",
    "* w1=w2=0.5"
   ]
  },
  {
   "cell_type": "markdown",
   "metadata": {},
   "source": [
    "##### First way \n",
    "- generated array with size n and fill it with data point from a Random sampling with a Gaussian disterbution (μ1+3,1)\n",
    "- generated array with size n and fill it with data point from a Random sampling with a Gaussian disterbution (μ2+5,1)\n",
    "- combine the two array into one dataset\n",
    "\n",
    "##### Second way\n",
    "- Flip a fare coin n times\n",
    "    - If it Heads: append to the dataset Random sampling with a Gaussian disterbution (e1+3,std1=1)\n",
    "    - If it Tails: append to the dataset Random sampling with a Gaussian disterbution (e2+5,std1=1)"
   ]
  },
  {
   "cell_type": "markdown",
   "metadata": {},
   "source": [
    "#### 3.D\n",
    "Use one of the above approaches to generate 1000 points and plot a histogram of the result (decide on bins, axes etc)\n"
   ]
  },
  {
   "cell_type": "code",
   "execution_count": 145,
   "metadata": {},
   "outputs": [
    {
     "data": {
      "image/png": "[encoded data removed]",
      "text/plain": [
       "<Figure size 720x432 with 1 Axes>"
      ]
     },
     "metadata": {},
     "output_type": "display_data"
    }
   ],
   "source": [
    "import seaborn as sns\n",
    "import scipy.stats as stats\n",
    "import numpy as np\n",
    "import matplotlib.pyplot as plt\n",
    "\n",
    "%matplotlib inline\n",
    "\n",
    "import warnings\n",
    "warnings.filterwarnings('ignore')\n",
    "\n",
    "# I desided\n",
    "e1 = 0 \n",
    "e2 = 4 \n",
    "\n",
    "# givven\n",
    "size = 500\n",
    "loc1= e1+3\n",
    "loc2= e2+5\n",
    "scale1 = 1\n",
    "scale2 = 1\n",
    "w1 = 0.5\n",
    "w2 = 0.2\n",
    "\n",
    "first_gaussian = stats.norm.rvs(loc=loc1, scale=scale1, size=size)\n",
    "second_gaussian = stats.norm.rvs(loc=loc2, scale=scale2, size=size)\n",
    "\n",
    "gmm_data1= np.array([first_gaussian,second_gaussian]).reshape(1,size*2)\n",
    "\n",
    "plt.figure(figsize=(10, 6))\n",
    "sns.distplot(gmm_data1, bins=50)\n",
    "plt.title('GMM - first way')\n",
    "plt.xlabel(\"Values\", fontsize=16)\n",
    "plt.ylabel(\"Frequency\", fontsize=16)\n",
    "plt.show()"
   ]
  },
  {
   "cell_type": "markdown",
   "metadata": {},
   "source": [
    "#### 3.E - BONUS\n",
    "Use the other one to generate 1000 more points and draw two comparative histograms.\n"
   ]
  },
  {
   "cell_type": "code",
   "execution_count": 148,
   "metadata": {},
   "outputs": [
    {
     "data": {
      "image/png": "[encoded data removed]",
      "text/plain": [
       "<Figure size 720x432 with 1 Axes>"
      ]
     },
     "metadata": {},
     "output_type": "display_data"
    }
   ],
   "source": [
    "import seaborn as sns\n",
    "import scipy.stats as stats\n",
    "import numpy as np\n",
    "import matplotlib.pyplot as plt\n",
    "\n",
    "%matplotlib inline\n",
    "\n",
    "import warnings\n",
    "warnings.filterwarnings('ignore')\n",
    "\n",
    "# I desided\n",
    "e1 = 0 \n",
    "e2 = 4 \n",
    "\n",
    "# givven\n",
    "size = 1000\n",
    "loc1= e1+3\n",
    "loc2= e2+5\n",
    "scale1 = 1\n",
    "scale2 = 1\n",
    "w1 = 0.5\n",
    "w2 = 0.2\n",
    "\n",
    "first_gaussian = stats.norm.rvs(loc=loc1, scale=scale1, size=size)\n",
    "second_gaussian = stats.norm.rvs(loc=loc2, scale=scale2, size=size)\n",
    "\n",
    "gmm_data2 = []\n",
    "for i in range(size):\n",
    "    p = stats.uniform.rvs(size=1)\n",
    "    if p < w1:\n",
    "        gmm_data2.append(np.random.choice(a=first_gaussian, size=1))\n",
    "    else:\n",
    "        gmm_data2.append(np.random.choice(a=second_gaussian, size=1))\n",
    "\n",
    "plt.figure(figsize=(10, 6))\n",
    "sns.distplot(gmm_data2, bins=50,color='orange')\n",
    "plt.title('GMM - second way')\n",
    "plt.xlabel(\"Values\", fontsize=16)\n",
    "plt.ylabel(\"Frequency\", fontsize=16)\n",
    "plt.show()"
   ]
  },
  {
   "cell_type": "code",
   "execution_count": 149,
   "metadata": {},
   "outputs": [
    {
     "data": {
      "image/png": "[encoded data removed]",
      "text/plain": [
       "<Figure size 864x576 with 1 Axes>"
      ]
     },
     "metadata": {},
     "output_type": "display_data"
    }
   ],
   "source": [
    "plt.figure(figsize=(12, 8))\n",
    "sns.distplot(gmm_data2, bins=50,label='first way')\n",
    "sns.distplot(gmm_data1, bins=50,label='second way',color='orange')\n",
    "plt.title('comparative histograms')\n",
    "plt.xlabel(\"Values\", fontsize=16)\n",
    "plt.ylabel(\"Frequency\", fontsize=16)\n",
    "plt.legend()\n",
    "plt.show()"
   ]
  },
  {
   "cell_type": "markdown",
   "metadata": {},
   "source": [
    "### Question 4 - Normally distributed salaries"
   ]
  },
  {
   "cell_type": "markdown",
   "metadata": {},
   "source": [
    "The annual salaries of employees in a large Randomistan company are approximateley normally distributed with a mean of 50,000 RCU and a standard deviation of 20,000 RCU."
   ]
  },
  {
   "cell_type": "code",
   "execution_count": 107,
   "metadata": {},
   "outputs": [],
   "source": [
    "from scipy.stats import norm\n",
    "\n",
    "mean = 50000\n",
    "std = 20000\n",
    "\n",
    "nd = norm(loc=mean,scale=std)"
   ]
  },
  {
   "cell_type": "markdown",
   "metadata": {},
   "source": [
    "#### 4.A\n",
    "What percent of people earn less than 40,000 RCU?"
   ]
  },
  {
   "cell_type": "code",
   "execution_count": 108,
   "metadata": {},
   "outputs": [
    {
     "name": "stdout",
     "output_type": "stream",
     "text": [
      "30.85%\n"
     ]
    }
   ],
   "source": [
    "print('{0}%'.format(round(nd.cdf(40000)*100,2)))"
   ]
  },
  {
   "cell_type": "markdown",
   "metadata": {},
   "source": [
    "#### 4.B\n",
    "What percent of people earn between 45,000 RCU and 65,000 RCU?"
   ]
  },
  {
   "cell_type": "code",
   "execution_count": 60,
   "metadata": {},
   "outputs": [
    {
     "name": "stdout",
     "output_type": "stream",
     "text": [
      "37.21%\n"
     ]
    }
   ],
   "source": [
    "print('{0}%'.format(round((nd.cdf(65000)-nd.cdf(45000))*100,2)))"
   ]
  },
  {
   "cell_type": "markdown",
   "metadata": {},
   "source": [
    "#### 4.C\n",
    "What percent of people earn more than 70,000 RCU?"
   ]
  },
  {
   "cell_type": "code",
   "execution_count": 62,
   "metadata": {},
   "outputs": [
    {
     "name": "stdout",
     "output_type": "stream",
     "text": [
      "15.87%\n"
     ]
    }
   ],
   "source": [
    "print('{0}%'.format( round((1-nd.cdf(70000))*100 ,2) ))"
   ]
  },
  {
   "cell_type": "markdown",
   "metadata": {},
   "source": [
    "#### 4.D\n",
    "The company has 1000 employees. Do you expect that there are any employees that earn more than 120,000 RCU?  "
   ]
  },
  {
   "cell_type": "code",
   "execution_count": 88,
   "metadata": {},
   "outputs": [
    {
     "name": "stdout",
     "output_type": "stream",
     "text": [
      "the probability of that could heppen is 0.000233 (0.023%).\n",
      "Because there is a 1K employees, I expect 0 employees earning more then 120K RCU.\n",
      "so NO!\n"
     ]
    }
   ],
   "source": [
    "proba = round((1-nd.cdf(120000)),6)\n",
    "print('the probability of that could heppen is {0} ({1}%).'.format(proba,round(proba*100,3)))\n",
    "print('Because there is a 1K employees, I expect {0} employees earning more then 120K RCU.'.format(int(proba*1000)))\n",
    "print('so NO!')"
   ]
  },
  {
   "cell_type": "markdown",
   "metadata": {},
   "source": [
    "\n",
    "### Question 5 - Coupon collector"
   ]
  },
  {
   "cell_type": "markdown",
   "metadata": {},
   "source": [
    "Let $T_{N}$ denote the waiting time for full single coupon collection with N different equiprobable coupon types"
   ]
  },
  {
   "cell_type": "markdown",
   "metadata": {},
   "source": [
    "#### 5.A\n",
    "Write code to compute the exact value of $E(T_{N})$"
   ]
  },
  {
   "cell_type": "code",
   "execution_count": 112,
   "metadata": {},
   "outputs": [],
   "source": [
    "def coupon_mean(Tn):\n",
    "    return round(np.sum( 1 / ((Tn - np.arange(Tn)) / Tn) ),3)"
   ]
  },
  {
   "cell_type": "markdown",
   "metadata": {},
   "source": [
    "#### 5.B\n",
    "Write code to compute the exact value of $V(T_{N})$"
   ]
  },
  {
   "cell_type": "code",
   "execution_count": 113,
   "metadata": {},
   "outputs": [],
   "source": [
    "def coupon_var(Tn):\n",
    "    p = (Tn - np.arange(Tn)) / Tn\n",
    "    return round(np.sum( (1-p)/pow(p,2) ),3)"
   ]
  },
  {
   "cell_type": "markdown",
   "metadata": {},
   "source": [
    "#### 5.C\n",
    "Write code to exactly compute $P(T_{20}>60)$"
   ]
  },
  {
   "cell_type": "code",
   "execution_count": 142,
   "metadata": {},
   "outputs": [
    {
     "name": "stdout",
     "output_type": "stream",
     "text": [
      "0.639\n"
     ]
    }
   ],
   "source": [
    "'''\n",
    "n = n coupon\n",
    "g = greater then g\n",
    "'''\n",
    "def proba_coupon_ng(n,g):\n",
    "    from scipy.stats import geom\n",
    "    \n",
    "    p = (n - np.arange(n)) / n\n",
    "    \n",
    "    range_g = np.arange(g) + 1\n",
    "    result = geom.pmf(range_g, p[0])\n",
    "    \n",
    "    for current in p[1:]:\n",
    "        k = geom.pmf(range_g, current)\n",
    "        result = np.convolve(result, k)\n",
    "    \n",
    "    return 1 - result[:int(g+1-n)].sum()\n",
    "\n",
    "print(round(proba_coupon_ng(20,60),3))"
   ]
  },
  {
   "cell_type": "markdown",
   "metadata": {},
   "source": [
    "$P(T_{20}>60) = 0.64$"
   ]
  },
  {
   "cell_type": "markdown",
   "metadata": {},
   "source": [
    "#### 5.D\n",
    "Use Chebicheff to provide a bound for the probability from C and compare the results"
   ]
  },
  {
   "cell_type": "code",
   "execution_count": 125,
   "metadata": {},
   "outputs": [
    {
     "data": {
      "text/plain": [
       "(71.955, 566.511)"
      ]
     },
     "execution_count": 125,
     "metadata": {},
     "output_type": "execute_result"
    }
   ],
   "source": [
    "Tn = 20\n",
    "coupon_mean(Tn),coupon_var(Tn)"
   ]
  },
  {
   "cell_type": "code",
   "execution_count": 143,
   "metadata": {},
   "outputs": [
    {
     "name": "stdout",
     "output_type": "stream",
     "text": [
      "k = 2.45\n",
      "Chebyshev Upper Bound = 3.21\n"
     ]
    }
   ],
   "source": [
    "# parameters\n",
    "coupon_mean20 = coupon_mean(20)\n",
    "coupon_var20 = coupon_var(20)\n",
    "std20 = np.sqrt(coupon_var20)\n",
    "\n",
    "# limits\n",
    "limit1 = 60\n",
    "limit2 = 2*coupon_mean20-limit1\n",
    "\n",
    "# Calculations\n",
    "k = abs((limit1-coupon_mean20)/np.sqrt(std20))\n",
    "upperLimit = coupon_var20/(60-coupon_mean20)**2 - (1- proba_coupon_ng(20,round(limit2)) )\n",
    "\n",
    "print (\"k = \" + str(round(k,3)))\n",
    "print(\"Chebyshev Upper Bound = \" + str(round(upperLimit,2)))"
   ]
  },
  {
   "cell_type": "markdown",
   "metadata": {},
   "source": [
    "### Question 6 - More on convolutions\n",
    "\n",
    "Let n be an integer, not prime. <br>\n",
    "Find two distributions a and b on the nonnegative integers, both not concentrated at 0 (this is the trivial answer…), such that the convolution of a and b is the equiprobable (uniform) distribution on the set of numbers 0, 1, 2, . . . , n-1.\n",
    "\n",
    "Note: If n is prime this is not possible, but the proof is not so easy.   \n",
    "\n",
    "Self note: For some reason, I had a really difficult time solving this question. And I got some help and ideas from our study group."
   ]
  },
  {
   "cell_type": "markdown",
   "metadata": {},
   "source": [
    "\n",
    "###### Step 1\n",
    "As n is a non-prime, there must be two integers, different then n or one, that there multiplication will equals n, as follows:\n",
    "$$q,p \\ne n,1 \\space \\Rightarrow \\space qp=n$$\n",
    "\n",
    "##### Step 2\n",
    "I'll defibe $\\delta[n]$ as the unit impulse function.  \n",
    "And Also define a and b as follows:  \n",
    "$$a=\\frac{1}{p}\\sum_{i=0}^{p-1} \\delta[n-i \\cdot q] \\Rightarrow \\text{q-spaced sequence of p impulses of height } \\frac{1}{p} \\text{ starting at n=0}$$    \n",
    "$$b=\\Theta_{0,q-1}[n] \\Rightarrow \\text{denote a uniform distribution between 0 and q-1}$$\n",
    "\n",
    "##### Step 3\n",
    "Perform a convelotion operation on a and b will result $\\Rightarrow$ p copies of b, each with length q and spaced by q, while starting at 0.  \n",
    "Due to no overlapping, all value will be the same!  \n",
    "Each value is $\\frac{1}{p \\cdot q}=\\frac{1}{n}$.  \n",
    "\n",
    "##### Step 4:\n",
    "The total number of values is $p \\cdot q = n$ , thus, the resulting distribution is $a * b = \\Theta_{0,n-1}$ .   \n",
    "Done!"
   ]
  }
 ],
 "metadata": {
  "kernelspec": {
   "display_name": "Python 3",
   "language": "python",
   "name": "python3"
  },
  "language_info": {
   "codemirror_mode": {
    "name": "ipython",
    "version": 3
   },
   "file_extension": ".py",
   "mimetype": "text/x-python",
   "name": "python",
   "nbconvert_exporter": "python",
   "pygments_lexer": "ipython3",
   "version": "3.7.7"
  }
 },
 "nbformat": 4,
 "nbformat_minor": 2
}
